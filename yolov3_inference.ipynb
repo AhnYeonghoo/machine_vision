{
  "cells": [
    {
      "cell_type": "code",
      "execution_count": null,
      "metadata": {
        "colab": {
          "base_uri": "https://localhost:8080/"
        },
        "id": "aG2425BlJvXJ",
        "outputId": "214ddb15-bd5a-461c-9481-6e271c286cc8"
      },
      "outputs": [
        {
          "name": "stdout",
          "output_type": "stream",
          "text": [
            "fatal: destination path 'yolov3' already exists and is not an empty directory.\n",
            "\u001b[2K     \u001b[90m━━━━━━━━━━━━━━━━━━━━━━━━━━━━━━━━━━━━━━\u001b[0m \u001b[32m184.3/184.3 kB\u001b[0m \u001b[31m16.5 MB/s\u001b[0m eta \u001b[36m0:00:00\u001b[0m\n",
            "\u001b[2K     \u001b[90m━━━━━━━━━━━━━━━━━━━━━━━━━━━━━━━━━━━━━━━━\u001b[0m \u001b[32m62.7/62.7 kB\u001b[0m \u001b[31m8.3 MB/s\u001b[0m eta \u001b[36m0:00:00\u001b[0m\n",
            "\u001b[2K     \u001b[90m━━━━━━━━━━━━━━━━━━━━━━━━━━━━━━━━━━━━━━━━\u001b[0m \u001b[32m1.6/1.6 MB\u001b[0m \u001b[31m85.6 MB/s\u001b[0m eta \u001b[36m0:00:00\u001b[0m\n",
            "\u001b[?25h"
          ]
        }
      ],
      "source": [
        "!git clone https://github.com/ultralytics/yolov3\n",
        "!cd yolov3;pip install -qr requirements.txt"
      ]
    },
    {
      "cell_type": "code",
      "execution_count": null,
      "metadata": {
        "colab": {
          "base_uri": "https://localhost:8080/"
        },
        "id": "HmEdJWtJJ4On",
        "outputId": "7dec80ec-2d5d-4c51-da38-4a2772b9d163"
      },
      "outputs": [
        {
          "name": "stdout",
          "output_type": "stream",
          "text": [
            "# YOLOv3 requirements\n",
            "# Usage: pip install -r requirements.txt\n",
            "\n",
            "# Base ------------------------------------------------------------------------\n",
            "gitpython\n",
            "ipython  # interactive notebook\n",
            "matplotlib>=3.2.2\n",
            "numpy>=1.18.5\n",
            "opencv-python>=4.1.1\n",
            "Pillow>=7.1.2\n",
            "psutil  # system resources\n",
            "PyYAML>=5.3.1\n",
            "requests>=2.23.0\n",
            "scipy>=1.4.1\n",
            "thop>=0.1.1  # FLOPs computation\n",
            "torch>=1.7.0  # see https://pytorch.org/get-started/locally (recommended)\n",
            "torchvision>=0.8.1\n",
            "tqdm>=4.64.0\n",
            "# protobuf<=3.20.1  # https://github.com/ultralytics/yolov5/issues/8012\n",
            "\n",
            "# Logging ---------------------------------------------------------------------\n",
            "tensorboard>=2.4.1\n",
            "# clearml>=1.2.0\n",
            "# comet\n",
            "\n",
            "# Plotting --------------------------------------------------------------------\n",
            "pandas>=1.1.4\n",
            "seaborn>=0.11.0\n",
            "\n",
            "# Export ----------------------------------------------------------------------\n",
            "# coremltools>=6.0  # CoreML export\n",
            "# onnx>=1.12.0  # ONNX export\n",
            "# onnx-simplifier>=0.4.1  # ONNX simplifier\n",
            "# nvidia-pyindex  # TensorRT export\n",
            "# nvidia-tensorrt  # TensorRT export\n",
            "# scikit-learn<=1.1.2  # CoreML quantization\n",
            "# tensorflow>=2.4.1  # TF exports (-cpu, -aarch64, -macos)\n",
            "# tensorflowjs>=3.9.0  # TF.js export\n",
            "# openvino-dev  # OpenVINO export\n",
            "\n",
            "# Deploy ----------------------------------------------------------------------\n",
            "setuptools>=65.5.1 # Snyk vulnerability fix\n",
            "wheel>=0.38.0 # Snyk vulnerability fix\n",
            "# tritonclient[all]~=2.24.0\n",
            "\n",
            "# Extras ----------------------------------------------------------------------\n",
            "# mss  # screenshots\n",
            "# albumentations>=1.0.3\n",
            "# pycocotools>=2.0.6  # COCO mAP\n",
            "# ultralytics  # HUB https://hub.ultralytics.com\n"
          ]
        }
      ],
      "source": [
        "!cat yolov3/requirements.txt"
      ]
    },
    {
      "cell_type": "code",
      "execution_count": null,
      "metadata": {
        "colab": {
          "base_uri": "https://localhost:8080/"
        },
        "id": "IkCCiUFJKt7u",
        "outputId": "4f55fc23-5089-4fab-c9f0-5ac6fb1cafaf"
      },
      "outputs": [
        {
          "name": "stdout",
          "output_type": "stream",
          "text": [
            "Setup-complete, Using torch 2.0.0+cu118 (Tesla T4)\n"
          ]
        }
      ],
      "source": [
        "from IPython.display import Image, clear_output\n",
        "import torch\n",
        "\n",
        "clear_output()\n",
        "print(f\"Setup-complete, Using torch {torch.__version__} ({torch.cuda.get_device_properties(0).name if torch.cuda.is_available() else 'CPU' })\")"
      ]
    },
    {
      "cell_type": "code",
      "execution_count": null,
      "metadata": {
        "colab": {
          "base_uri": "https://localhost:8080/"
        },
        "id": "eEwzEnk1LVX1",
        "outputId": "88f6486b-04ef-4ce5-934a-50a5fdc4b813"
      },
      "outputs": [
        {
          "name": "stdout",
          "output_type": "stream",
          "text": [
            "Sat May 13 03:36:58 2023       \n",
            "+-----------------------------------------------------------------------------+\n",
            "| NVIDIA-SMI 525.85.12    Driver Version: 525.85.12    CUDA Version: 12.0     |\n",
            "|-------------------------------+----------------------+----------------------+\n",
            "| GPU  Name        Persistence-M| Bus-Id        Disp.A | Volatile Uncorr. ECC |\n",
            "| Fan  Temp  Perf  Pwr:Usage/Cap|         Memory-Usage | GPU-Util  Compute M. |\n",
            "|                               |                      |               MIG M. |\n",
            "|===============================+======================+======================|\n",
            "|   0  Tesla T4            Off  | 00000000:00:04.0 Off |                    0 |\n",
            "| N/A   42C    P8     9W /  70W |      3MiB / 15360MiB |      0%      Default |\n",
            "|                               |                      |                  N/A |\n",
            "+-------------------------------+----------------------+----------------------+\n",
            "                                                                               \n",
            "+-----------------------------------------------------------------------------+\n",
            "| Processes:                                                                  |\n",
            "|  GPU   GI   CI        PID   Type   Process name                  GPU Memory |\n",
            "|        ID   ID                                                   Usage      |\n",
            "|=============================================================================|\n",
            "|  No running processes found                                                 |\n",
            "+-----------------------------------------------------------------------------+\n"
          ]
        }
      ],
      "source": [
        "!nvidia-smi"
      ]
    },
    {
      "cell_type": "code",
      "execution_count": null,
      "metadata": {
        "colab": {
          "base_uri": "https://localhost:8080/"
        },
        "id": "kBYgd8bHLnEQ",
        "outputId": "c166be00-235f-42cc-f38f-9c01060595f6"
      },
      "outputs": [
        {
          "name": "stdout",
          "output_type": "stream",
          "text": [
            "total 656\n",
            "drwxr-xr-x 2 root root   4096 May 13 03:28 .\n",
            "drwxr-xr-x 5 root root   4096 May 13 03:28 ..\n",
            "-rw-r--r-- 1 root root 487438 May 13 03:28 bus.jpg\n",
            "-rw-r--r-- 1 root root 168949 May 13 03:28 zidane.jpg\n"
          ]
        }
      ],
      "source": [
        "!cd yolov3/data/images; ls -lla"
      ]
    },
    {
      "cell_type": "code",
      "execution_count": null,
      "metadata": {
        "id": "EGl49UgdMaId"
      },
      "outputs": [],
      "source": []
    }
  ],
  "metadata": {
    "accelerator": "GPU",
    "colab": {
      "gpuType": "T4",
      "provenance": []
    },
    "gpuClass": "standard",
    "kernelspec": {
      "display_name": "Python 3",
      "name": "python3"
    },
    "language_info": {
      "name": "python",
      "version": "3.9.13"
    }
  },
  "nbformat": 4,
  "nbformat_minor": 0
}
