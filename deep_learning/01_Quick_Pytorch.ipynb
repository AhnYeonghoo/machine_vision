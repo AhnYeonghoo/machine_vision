{
 "cells": [
  {
   "cell_type": "code",
   "execution_count": 1,
   "metadata": {},
   "outputs": [],
   "source": [
    "# Pytorch\n",
    "# numpy가 지원하는 연산들을 GPU에서 할 수 있도록 함\n",
    "# 높은 유연성과 성능을 제공하는 딥러닝 지원\n",
    "# 따라서, Numpy와 유사한 측면이 많음."
   ]
  },
  {
   "cell_type": "code",
   "execution_count": 2,
   "metadata": {},
   "outputs": [],
   "source": [
    "import torch"
   ]
  },
  {
   "cell_type": "code",
   "execution_count": 3,
   "metadata": {},
   "outputs": [],
   "source": [
    "# Tensor는 numpy의 ndarray와 상당히 유사한 구조를 지님\n",
    "# scalar(0D 텐서)\n",
    "# scalar는 numpy로 만들 수 있음"
   ]
  },
  {
   "cell_type": "code",
   "execution_count": 4,
   "metadata": {},
   "outputs": [
    {
     "name": "stdout",
     "output_type": "stream",
     "text": [
      "10 0 ()\n"
     ]
    }
   ],
   "source": [
    "import numpy as np\n",
    "data1 = np.array(10)\n",
    "print(data1, data1.ndim, data1.shape) # ndim은 aixs축, shape은 행렬의 차원을 의미함"
   ]
  },
  {
   "cell_type": "code",
   "execution_count": 5,
   "metadata": {},
   "outputs": [],
   "source": [
    "# Vector (1D 텐서)\n",
    "# vector부터는 pytorch의 tensor로 만들 수 있음\n",
    "# shape는 torch.size([3])와 같이 표현됨"
   ]
  },
  {
   "cell_type": "code",
   "execution_count": 8,
   "metadata": {},
   "outputs": [
    {
     "name": "stdout",
     "output_type": "stream",
     "text": [
      "tensor([1., 2.]) 1 torch.Size([2])\n",
      "tensor([1.0078e+00, 4.7429e+30, 5.6052e-45]) 1 torch.Size([3])\n"
     ]
    }
   ],
   "source": [
    "data1 = torch.FloatTensor([1, 2]) #1, 2 원소를 가진 1D 텐서 선언\n",
    "print(data1, data1.dim(), data1.shape)\n",
    "data2 = torch.FloatTensor(3) # 임의의 3개의 원소를 가진 1D 텐서 선언\n",
    "print(data2, data2.dim(), data2.shape) #dim()은 축, shape은 행렬의 차원을 의미함"
   ]
  },
  {
   "cell_type": "code",
   "execution_count": 9,
   "metadata": {},
   "outputs": [
    {
     "name": "stdout",
     "output_type": "stream",
     "text": [
      "tensor([[5.3244e+22, 1.0015e-11],\n",
      "        [1.6779e+22, 3.3611e+21],\n",
      "        [1.0978e-05, 6.4531e-07]]) 2 torch.Size([3, 2])\n",
      "tensor([[1., 2.],\n",
      "        [3., 4.],\n",
      "        [5., 6.]]) 2 torch.Size([3, 2])\n"
     ]
    }
   ],
   "source": [
    "# matrix(2D 텐서)\n",
    "data3 = torch.FloatTensor(3, 2) # shape을 기반으로 임의의 원소값을 가진 텐서 선언\n",
    "print(data3, data3.dim(), data3.shape)\n",
    "data4 = torch.FloatTensor([ [1,2], [3, 4], [5, 6]])\n",
    "print(data4, data4.dim(), data4.shape) # dim()은 axis(축) == 열과 동일"
   ]
  },
  {
   "cell_type": "code",
   "execution_count": 11,
   "metadata": {},
   "outputs": [
    {
     "name": "stdout",
     "output_type": "stream",
     "text": [
      "tensor([[[2.6254e-06],\n",
      "         [4.1727e+21]],\n",
      "\n",
      "        [[2.5933e-09],\n",
      "         [2.1271e-07]],\n",
      "\n",
      "        [[4.2654e-08],\n",
      "         [1.0811e-05]]]) 3 torch.Size([3, 2, 1])\n",
      "tensor([[[1.],\n",
      "         [2.]],\n",
      "\n",
      "        [[3.],\n",
      "         [4.]],\n",
      "\n",
      "        [[5.],\n",
      "         [6.]]]) 3 torch.Size([3, 2, 1])\n"
     ]
    }
   ],
   "source": [
    "# 3D 텐서\n",
    "data5 = torch.FloatTensor(3, 2, 1) # 차원의 수, 행, 열 \n",
    "print(data5, data5.dim(), data5.shape)\n",
    "\n",
    "# 차원의 수는 행렬이 뭉탱이로 몇개가 있냐임\n",
    "# 즉 위의 3, 2, 1은 2행 1열의 데이터가 3뭉치 존재한다는 의미임.\n",
    "\n",
    "data6 = torch.FloatTensor([ [ [1], [2] ], [ [3], [4] ], [ [5], [6] ] ])\n",
    "print(data6, data6.dim(), data6.shape)"
   ]
  },
  {
   "cell_type": "code",
   "execution_count": 12,
   "metadata": {},
   "outputs": [
    {
     "name": "stdout",
     "output_type": "stream",
     "text": [
      "tensor([[1.],\n",
      "        [2.],\n",
      "        [3.]]) 2 torch.Size([3, 1])\n",
      "tensor([[1., 2., 3.]]) 2 torch.Size([1, 3])\n"
     ]
    }
   ],
   "source": [
    "# 밖에서부터 안쪽으로 텐서 선언 이해\n",
    "data7 = torch.FloatTensor([ [1], [2], [3] ])\n",
    "print(data7, data7.dim(), data7.shape)\n",
    "\n",
    "data8 = torch.FloatTensor([ [1, 2, 3] ])\n",
    "print(data8, data8.dim(), data8.shape)"
   ]
  },
  {
   "cell_type": "code",
   "execution_count": 13,
   "metadata": {},
   "outputs": [],
   "source": [
    "# Tensor 생성 주요 메서드"
   ]
  },
  {
   "cell_type": "code",
   "execution_count": null,
   "metadata": {},
   "outputs": [],
   "source": []
  }
 ],
 "metadata": {
  "kernelspec": {
   "display_name": "base",
   "language": "python",
   "name": "python3"
  },
  "language_info": {
   "codemirror_mode": {
    "name": "ipython",
    "version": 3
   },
   "file_extension": ".py",
   "mimetype": "text/x-python",
   "name": "python",
   "nbconvert_exporter": "python",
   "pygments_lexer": "ipython3",
   "version": "3.9.13"
  },
  "orig_nbformat": 4
 },
 "nbformat": 4,
 "nbformat_minor": 2
}
