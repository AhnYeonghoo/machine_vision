{
 "cells": [
  {
   "cell_type": "code",
   "execution_count": 1,
   "metadata": {},
   "outputs": [
    {
     "ename": "ModuleNotFoundError",
     "evalue": "No module named 'tensorflow'",
     "output_type": "error",
     "traceback": [
      "\u001b[1;31m---------------------------------------------------------------------------\u001b[0m",
      "\u001b[1;31mModuleNotFoundError\u001b[0m                       Traceback (most recent call last)",
      "\u001b[1;32mc:\\Users\\dksdu\\OneDrive\\바탕 화면\\machine_vision\\allinone_dl\\test.ipynb Cell 1\u001b[0m in \u001b[0;36m1\n\u001b[1;32m----> <a href='vscode-notebook-cell:/c%3A/Users/dksdu/OneDrive/%EB%B0%94%ED%83%95%20%ED%99%94%EB%A9%B4/machine_vision/allinone_dl/test.ipynb#W0sZmlsZQ%3D%3D?line=0'>1</a>\u001b[0m \u001b[39mimport\u001b[39;00m \u001b[39mtensorflow\u001b[39;00m \u001b[39mas\u001b[39;00m \u001b[39mtf\u001b[39;00m\n\u001b[0;32m      <a href='vscode-notebook-cell:/c%3A/Users/dksdu/OneDrive/%EB%B0%94%ED%83%95%20%ED%99%94%EB%A9%B4/machine_vision/allinone_dl/test.ipynb#W0sZmlsZQ%3D%3D?line=2'>3</a>\u001b[0m hello \u001b[39m=\u001b[39m tf\u001b[39m.\u001b[39mconstant(\u001b[39m\"\u001b[39m\u001b[39mHello, TensorFlow!\u001b[39m\u001b[39m\"\u001b[39m)\n\u001b[0;32m      <a href='vscode-notebook-cell:/c%3A/Users/dksdu/OneDrive/%EB%B0%94%ED%83%95%20%ED%99%94%EB%A9%B4/machine_vision/allinone_dl/test.ipynb#W0sZmlsZQ%3D%3D?line=4'>5</a>\u001b[0m sess \u001b[39m=\u001b[39m tf\u001b[39m.\u001b[39mSession()\n",
      "\u001b[1;31mModuleNotFoundError\u001b[0m: No module named 'tensorflow'"
     ]
    }
   ],
   "source": [
    "import tensorflow as tf\n",
    "import torch\n",
    "\n",
    "hello = tf.constant(\"Hello, TensorFlow!\")\n",
    "\n",
    "sess = tf.Session()\n",
    "\n",
    "print(sess.run(hello))"
   ]
  },
  {
   "cell_type": "code",
   "execution_count": null,
   "metadata": {},
   "outputs": [],
   "source": []
  }
 ],
 "metadata": {
  "kernelspec": {
   "display_name": "Python 3",
   "language": "python",
   "name": "python3"
  },
  "language_info": {
   "codemirror_mode": {
    "name": "ipython",
    "version": 3
   },
   "file_extension": ".py",
   "mimetype": "text/x-python",
   "name": "python",
   "nbconvert_exporter": "python",
   "pygments_lexer": "ipython3",
   "version": "3.10.6"
  },
  "orig_nbformat": 4
 },
 "nbformat": 4,
 "nbformat_minor": 2
}
